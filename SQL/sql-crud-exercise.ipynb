{
 "cells": [
  {
   "cell_type": "markdown",
   "metadata": {},
   "source": [
    "## Practice Exercise"
   ]
  },
  {
   "cell_type": "markdown",
   "metadata": {},
   "source": [
    "**Objective**: Practice performing CRUD operations.\n",
    "**Perform the following tasks:**\n",
    "1. Create a new table named `Books`, with the following columns:\n",
    "- BookID (Primary Key, auto-increment)\n",
    "- Title (Title of the book)\n",
    "- Author\n",
    "- Genre\n",
    "- Publication_Year\n",
    "- Price\n",
    "2. Insert at least 3 new books into the `Books` table.\n",
    "3. Retrieve all books from the Books table.\n",
    "4. Update the price of a specific book.\n",
    "5. Delete a book from the table."
   ]
  },
  {
   "cell_type": "code",
   "execution_count": 1,
   "metadata": {},
   "outputs": [
    {
     "name": "stdout",
     "output_type": "stream",
     "text": [
      "Requirement already satisfied: ipython-sql in d:\\仕事\\technical\\01_onecodecamp-bootcamp\\01_code\\dph02\\venv\\lib\\site-packages (0.5.0)\n",
      "Requirement already satisfied: prettytable in d:\\仕事\\technical\\01_onecodecamp-bootcamp\\01_code\\dph02\\venv\\lib\\site-packages (from ipython-sql) (3.10.0)\n",
      "Requirement already satisfied: ipython in d:\\仕事\\technical\\01_onecodecamp-bootcamp\\01_code\\dph02\\venv\\lib\\site-packages (from ipython-sql) (8.25.0)\n",
      "Requirement already satisfied: sqlalchemy>=2.0 in d:\\仕事\\technical\\01_onecodecamp-bootcamp\\01_code\\dph02\\venv\\lib\\site-packages (from ipython-sql) (2.0.30)\n",
      "Requirement already satisfied: sqlparse in d:\\仕事\\technical\\01_onecodecamp-bootcamp\\01_code\\dph02\\venv\\lib\\site-packages (from ipython-sql) (0.5.0)\n",
      "Requirement already satisfied: six in d:\\仕事\\technical\\01_onecodecamp-bootcamp\\01_code\\dph02\\venv\\lib\\site-packages (from ipython-sql) (1.16.0)\n",
      "Requirement already satisfied: ipython-genutils in d:\\仕事\\technical\\01_onecodecamp-bootcamp\\01_code\\dph02\\venv\\lib\\site-packages (from ipython-sql) (0.2.0)\n",
      "Requirement already satisfied: typing-extensions>=4.6.0 in d:\\仕事\\technical\\01_onecodecamp-bootcamp\\01_code\\dph02\\venv\\lib\\site-packages (from sqlalchemy>=2.0->ipython-sql) (4.12.2)\n",
      "Requirement already satisfied: greenlet!=0.4.17 in d:\\仕事\\technical\\01_onecodecamp-bootcamp\\01_code\\dph02\\venv\\lib\\site-packages (from sqlalchemy>=2.0->ipython-sql) (3.0.3)\n",
      "Requirement already satisfied: decorator in d:\\仕事\\technical\\01_onecodecamp-bootcamp\\01_code\\dph02\\venv\\lib\\site-packages (from ipython->ipython-sql) (5.1.1)\n",
      "Requirement already satisfied: jedi>=0.16 in d:\\仕事\\technical\\01_onecodecamp-bootcamp\\01_code\\dph02\\venv\\lib\\site-packages (from ipython->ipython-sql) (0.19.1)\n",
      "Requirement already satisfied: matplotlib-inline in d:\\仕事\\technical\\01_onecodecamp-bootcamp\\01_code\\dph02\\venv\\lib\\site-packages (from ipython->ipython-sql) (0.1.7)\n",
      "Requirement already satisfied: prompt-toolkit<3.1.0,>=3.0.41 in d:\\仕事\\technical\\01_onecodecamp-bootcamp\\01_code\\dph02\\venv\\lib\\site-packages (from ipython->ipython-sql) (3.0.47)\n",
      "Requirement already satisfied: pygments>=2.4.0 in d:\\仕事\\technical\\01_onecodecamp-bootcamp\\01_code\\dph02\\venv\\lib\\site-packages (from ipython->ipython-sql) (2.18.0)\n",
      "Requirement already satisfied: stack-data in d:\\仕事\\technical\\01_onecodecamp-bootcamp\\01_code\\dph02\\venv\\lib\\site-packages (from ipython->ipython-sql) (0.6.3)\n",
      "Requirement already satisfied: traitlets>=5.13.0 in d:\\仕事\\technical\\01_onecodecamp-bootcamp\\01_code\\dph02\\venv\\lib\\site-packages (from ipython->ipython-sql) (5.14.3)\n",
      "Requirement already satisfied: colorama in d:\\仕事\\technical\\01_onecodecamp-bootcamp\\01_code\\dph02\\venv\\lib\\site-packages (from ipython->ipython-sql) (0.4.6)\n",
      "Requirement already satisfied: wcwidth in d:\\仕事\\technical\\01_onecodecamp-bootcamp\\01_code\\dph02\\venv\\lib\\site-packages (from prettytable->ipython-sql) (0.2.13)\n",
      "Requirement already satisfied: parso<0.9.0,>=0.8.3 in d:\\仕事\\technical\\01_onecodecamp-bootcamp\\01_code\\dph02\\venv\\lib\\site-packages (from jedi>=0.16->ipython->ipython-sql) (0.8.4)\n",
      "Requirement already satisfied: executing>=1.2.0 in d:\\仕事\\technical\\01_onecodecamp-bootcamp\\01_code\\dph02\\venv\\lib\\site-packages (from stack-data->ipython->ipython-sql) (2.0.1)\n",
      "Requirement already satisfied: asttokens>=2.1.0 in d:\\仕事\\technical\\01_onecodecamp-bootcamp\\01_code\\dph02\\venv\\lib\\site-packages (from stack-data->ipython->ipython-sql) (2.4.1)\n",
      "Requirement already satisfied: pure-eval in d:\\仕事\\technical\\01_onecodecamp-bootcamp\\01_code\\dph02\\venv\\lib\\site-packages (from stack-data->ipython->ipython-sql) (0.2.2)\n",
      "Note: you may need to restart the kernel to use updated packages.\n"
     ]
    }
   ],
   "source": [
    "%pip install ipython-sql\n",
    "\n",
    "%load_ext sql\n",
    "\n",
    "%sql sqlite:///sql-exercise.db"
   ]
  },
  {
   "cell_type": "markdown",
   "metadata": {},
   "source": [
    "1. Create a new table named `Books`, with the following columns:\n",
    "- BookID (Primary Key, auto-increment)\n",
    "- Title (Title of the book)\n",
    "- Author\n",
    "- Genre\n",
    "- Publication_Year\n",
    "- Price"
   ]
  },
  {
   "cell_type": "code",
   "execution_count": 2,
   "metadata": {},
   "outputs": [
    {
     "name": "stdout",
     "output_type": "stream",
     "text": [
      " * sqlite:///sql-exercise.db\n",
      "Done.\n"
     ]
    },
    {
     "data": {
      "text/plain": [
       "[]"
      ]
     },
     "execution_count": 2,
     "metadata": {},
     "output_type": "execute_result"
    }
   ],
   "source": [
    "%%sql CREATE TABLE IF NOT EXISTS Books (\n",
    "    book_id INT PRIMARY KEY,\n",
    "    title VARCHAR(50) NOT NULL,\n",
    "    author VARCHAR(50) NOT NULL,\n",
    "    genre VARCHAR(50),\n",
    "    publication_year DATE,\n",
    "    price DECIMAL(10, 2) NOT NULL\n",
    ");"
   ]
  },
  {
   "cell_type": "markdown",
   "metadata": {},
   "source": [
    "2. Insert at least 3 new books into the `Books` table."
   ]
  },
  {
   "cell_type": "code",
   "execution_count": 3,
   "metadata": {},
   "outputs": [
    {
     "name": "stdout",
     "output_type": "stream",
     "text": [
      " * sqlite:///sql-exercise.db\n",
      "3 rows affected.\n"
     ]
    },
    {
     "data": {
      "text/plain": [
       "[]"
      ]
     },
     "execution_count": 3,
     "metadata": {},
     "output_type": "execute_result"
    }
   ],
   "source": [
    "%%sql\n",
    "\n",
    "INSERT INTO Books (book_id, title, author, genre, publication_year, price)\n",
    "VALUES (1, \"Parry Hotter\", \"KJ Rowling\", \"Fantasy\", \"2001-09-11\", 4.99),\n",
    "        (2, \"50 Shades of Dr. Dre\", \"ET James\", \"Romance\", \"2014-08-23\", 2.75),\n",
    "        (3, \"Banger Games\", \"Suzy Q\", \"Dystopian Fiction\", \"2008-02-14\", 3.99);"
   ]
  },
  {
   "cell_type": "markdown",
   "metadata": {},
   "source": [
    "3. Retrieve all books from the Books table."
   ]
  },
  {
   "cell_type": "code",
   "execution_count": 4,
   "metadata": {},
   "outputs": [
    {
     "name": "stdout",
     "output_type": "stream",
     "text": [
      " * sqlite:///sql-exercise.db\n",
      "Done.\n"
     ]
    },
    {
     "data": {
      "text/html": [
       "<table>\n",
       "    <thead>\n",
       "        <tr>\n",
       "            <th>book_id</th>\n",
       "            <th>title</th>\n",
       "            <th>author</th>\n",
       "            <th>genre</th>\n",
       "            <th>publication_year</th>\n",
       "            <th>price</th>\n",
       "        </tr>\n",
       "    </thead>\n",
       "    <tbody>\n",
       "        <tr>\n",
       "            <td>1</td>\n",
       "            <td>Parry Hotter</td>\n",
       "            <td>KJ Rowling</td>\n",
       "            <td>Fantasy</td>\n",
       "            <td>2001-09-11</td>\n",
       "            <td>4.99</td>\n",
       "        </tr>\n",
       "        <tr>\n",
       "            <td>2</td>\n",
       "            <td>50 Shades of Dr. Dre</td>\n",
       "            <td>ET James</td>\n",
       "            <td>Romance</td>\n",
       "            <td>2014-08-23</td>\n",
       "            <td>2.75</td>\n",
       "        </tr>\n",
       "        <tr>\n",
       "            <td>3</td>\n",
       "            <td>Banger Games</td>\n",
       "            <td>Suzy Q</td>\n",
       "            <td>Dystopian Fiction</td>\n",
       "            <td>2008-02-14</td>\n",
       "            <td>3.99</td>\n",
       "        </tr>\n",
       "    </tbody>\n",
       "</table>"
      ],
      "text/plain": [
       "[(1, 'Parry Hotter', 'KJ Rowling', 'Fantasy', '2001-09-11', 4.99),\n",
       " (2, '50 Shades of Dr. Dre', 'ET James', 'Romance', '2014-08-23', 2.75),\n",
       " (3, 'Banger Games', 'Suzy Q', 'Dystopian Fiction', '2008-02-14', 3.99)]"
      ]
     },
     "execution_count": 4,
     "metadata": {},
     "output_type": "execute_result"
    }
   ],
   "source": [
    "%sql SELECT * FROM Books;"
   ]
  },
  {
   "cell_type": "markdown",
   "metadata": {},
   "source": [
    "4. Update the price of a specific book."
   ]
  },
  {
   "cell_type": "code",
   "execution_count": 5,
   "metadata": {},
   "outputs": [
    {
     "name": "stdout",
     "output_type": "stream",
     "text": [
      " * sqlite:///sql-exercise.db\n",
      "1 rows affected.\n"
     ]
    },
    {
     "data": {
      "text/plain": [
       "[]"
      ]
     },
     "execution_count": 5,
     "metadata": {},
     "output_type": "execute_result"
    }
   ],
   "source": [
    "%%sql\n",
    "\n",
    "UPDATE Books \n",
    "SET price = 3.00\n",
    "WHERE book_id = 2;"
   ]
  },
  {
   "cell_type": "markdown",
   "metadata": {},
   "source": [
    "5. Delete a book from the table."
   ]
  },
  {
   "cell_type": "code",
   "execution_count": 6,
   "metadata": {},
   "outputs": [
    {
     "name": "stdout",
     "output_type": "stream",
     "text": [
      " * sqlite:///sql-exercise.db\n",
      "1 rows affected.\n"
     ]
    },
    {
     "data": {
      "text/plain": [
       "[]"
      ]
     },
     "execution_count": 6,
     "metadata": {},
     "output_type": "execute_result"
    }
   ],
   "source": [
    "%sql DELETE FROM Books WHERE book_id = 3;"
   ]
  },
  {
   "cell_type": "code",
   "execution_count": 7,
   "metadata": {},
   "outputs": [
    {
     "name": "stdout",
     "output_type": "stream",
     "text": [
      " * sqlite:///sql-exercise.db\n",
      "Done.\n"
     ]
    },
    {
     "data": {
      "text/html": [
       "<table>\n",
       "    <thead>\n",
       "        <tr>\n",
       "            <th>book_id</th>\n",
       "            <th>title</th>\n",
       "            <th>author</th>\n",
       "            <th>genre</th>\n",
       "            <th>publication_year</th>\n",
       "            <th>price</th>\n",
       "        </tr>\n",
       "    </thead>\n",
       "    <tbody>\n",
       "        <tr>\n",
       "            <td>1</td>\n",
       "            <td>Parry Hotter</td>\n",
       "            <td>KJ Rowling</td>\n",
       "            <td>Fantasy</td>\n",
       "            <td>2001-09-11</td>\n",
       "            <td>4.99</td>\n",
       "        </tr>\n",
       "        <tr>\n",
       "            <td>2</td>\n",
       "            <td>50 Shades of Dr. Dre</td>\n",
       "            <td>ET James</td>\n",
       "            <td>Romance</td>\n",
       "            <td>2014-08-23</td>\n",
       "            <td>3</td>\n",
       "        </tr>\n",
       "    </tbody>\n",
       "</table>"
      ],
      "text/plain": [
       "[(1, 'Parry Hotter', 'KJ Rowling', 'Fantasy', '2001-09-11', 4.99),\n",
       " (2, '50 Shades of Dr. Dre', 'ET James', 'Romance', '2014-08-23', 3)]"
      ]
     },
     "execution_count": 7,
     "metadata": {},
     "output_type": "execute_result"
    }
   ],
   "source": [
    "%sql SELECT * FROM Books;"
   ]
  }
 ],
 "metadata": {
  "kernelspec": {
   "display_name": "venv",
   "language": "python",
   "name": "python3"
  },
  "language_info": {
   "codemirror_mode": {
    "name": "ipython",
    "version": 3
   },
   "file_extension": ".py",
   "mimetype": "text/x-python",
   "name": "python",
   "nbconvert_exporter": "python",
   "pygments_lexer": "ipython3",
   "version": "3.12.3"
  }
 },
 "nbformat": 4,
 "nbformat_minor": 2
}
